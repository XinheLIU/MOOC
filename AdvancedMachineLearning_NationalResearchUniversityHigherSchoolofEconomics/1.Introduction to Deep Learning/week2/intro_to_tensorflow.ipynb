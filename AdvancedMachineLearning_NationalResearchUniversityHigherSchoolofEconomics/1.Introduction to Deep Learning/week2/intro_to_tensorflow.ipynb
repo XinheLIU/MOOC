{
  "nbformat": 4,
  "nbformat_minor": 0,
  "metadata": {
    "colab": {
      "name": "intro_to_tensorflow.ipynb",
      "version": "0.3.2",
      "provenance": []
    },
    "kernelspec": {
      "display_name": "Python 3",
      "language": "python",
      "name": "python3"
    }
  },
  "cells": [
    {
      "metadata": {
        "slideshow": {
          "slide_type": "slide"
        },
        "id": "sgtsvuS6WAGw",
        "colab_type": "text"
      },
      "cell_type": "markdown",
      "source": [
        "# Intro to TensorFlow\n",
        "\n",
        "This notebook covers the basics of TF and shows you an animation with gradient descent trajectory.\n",
        "<img src=\"https://github.com/hse-aml/intro-to-dl/blob/master/week2/v2/images/gradient_descent.png?raw=1\" style=\"width:50%\">"
      ]
    },
    {
      "metadata": {
        "id": "nnhsnTuoWAGz",
        "colab_type": "text"
      },
      "cell_type": "markdown",
      "source": [
        "# TensorBoard"
      ]
    },
    {
      "metadata": {
        "id": "0jjL4IBUWAG0",
        "colab_type": "text"
      },
      "cell_type": "markdown",
      "source": [
        "**Plase note that if you are running on the Coursera platform, you won't be able to access the tensorboard instance due to the network setup there.**\n",
        "\n",
        "Run `tensorboard --logdir=./tensorboard_logs --port=7007` in bash.\n",
        "\n",
        "If you run the notebook locally, you should be able to access TensorBoard on http://127.0.0.1:7007/"
      ]
    },
    {
      "metadata": {
        "id": "hOHJYEN1WKju",
        "colab_type": "code",
        "colab": {
          "base_uri": "https://localhost:8080/",
          "height": 302
        },
        "outputId": "82d145d5-b0e9-43b4-eae1-68bb943d347e"
      },
      "cell_type": "code",
      "source": [
        "! shred -u setup_google_colab.py\n",
        "! wget https://raw.githubusercontent.com/hse-aml/intro-to-dl/master/setup_google_colab.py -O setup_google_colab.py\n",
        "import setup_google_colab\n",
        "# please, uncomment the week you're working on\n",
        "# setup_google_colab.setup_week1()\n",
        "setup_google_colab.setup_week2()\n",
        "# setup_google_colab.setup_week3()\n",
        "# setup_google_colab.setup_week4()\n",
        "# setup_google_colab.setup_week5()\n",
        "# setup_google_colab.setup_week6()\n",
        "\n",
        "# If you're using the old version of the course (check a path of notebook on Coursera, you'll see v1 or v2),\n",
        "# use setup_week2_old()."
      ],
      "execution_count": 52,
      "outputs": [
        {
          "output_type": "stream",
          "text": [
            "--2019-01-07 01:18:12--  https://raw.githubusercontent.com/hse-aml/intro-to-dl/master/setup_google_colab.py\n",
            "Resolving raw.githubusercontent.com (raw.githubusercontent.com)... 151.101.0.133, 151.101.64.133, 151.101.128.133, ...\n",
            "Connecting to raw.githubusercontent.com (raw.githubusercontent.com)|151.101.0.133|:443... connected.\n",
            "HTTP request sent, awaiting response... 200 OK\n",
            "Length: 3792 (3.7K) [text/plain]\n",
            "Saving to: ‘setup_google_colab.py’\n",
            "\n",
            "\rsetup_google_colab.   0%[                    ]       0  --.-KB/s               \rsetup_google_colab. 100%[===================>]   3.70K  --.-KB/s    in 0s      \n",
            "\n",
            "2019-01-07 01:18:12 (52.9 MB/s) - ‘setup_google_colab.py’ saved [3792/3792]\n",
            "\n",
            "**************************************************\n",
            "inception_v3_weights_tf_dim_ordering_tf_kernels_notop.h5\n",
            "**************************************************\n",
            "cifar-10-batches-py.tar.gz\n",
            "**************************************************\n",
            "mnist.npz\n"
          ],
          "name": "stdout"
        }
      ]
    },
    {
      "metadata": {
        "id": "nXYSoCpe4TZp",
        "colab_type": "code",
        "colab": {
          "base_uri": "https://localhost:8080/",
          "height": 218
        },
        "outputId": "7993cc5a-9890-4dda-91e2-0a2ac402403f"
      },
      "cell_type": "code",
      "source": [
        "# !!! RUN THIS CELL ONLY ON GOOGLE COLAB !!!\n",
        "! wget https://raw.githubusercontent.com/hse-aml/intro-to-dl/master/setup_google_colab.py -O setup_google_colab.py\n",
        "import setup_google_colab\n",
        "\n",
        "# run tensorboard in background\n",
        "import os\n",
        "os.system(\"tensorboard --logdir=./logs --host 0.0.0.0 --port 7007 &\")\n",
        "\n",
        "# expose port and show the link\n",
        "setup_google_colab.expose_port_on_colab(7007)"
      ],
      "execution_count": 53,
      "outputs": [
        {
          "output_type": "stream",
          "text": [
            "--2019-01-07 01:18:30--  https://raw.githubusercontent.com/hse-aml/intro-to-dl/master/setup_google_colab.py\n",
            "Resolving raw.githubusercontent.com (raw.githubusercontent.com)... 151.101.0.133, 151.101.64.133, 151.101.128.133, ...\n",
            "Connecting to raw.githubusercontent.com (raw.githubusercontent.com)|151.101.0.133|:443... connected.\n",
            "HTTP request sent, awaiting response... 200 OK\n",
            "Length: 3792 (3.7K) [text/plain]\n",
            "Saving to: ‘setup_google_colab.py’\n",
            "\n",
            "\rsetup_google_colab.   0%[                    ]       0  --.-KB/s               \rsetup_google_colab. 100%[===================>]   3.70K  --.-KB/s    in 0.001s  \n",
            "\n",
            "2019-01-07 01:18:30 (5.03 MB/s) - ‘setup_google_colab.py’ saved [3792/3792]\n",
            "\n",
            "Open http://78d90d4e.ngrok.io to access your 7007 port\n"
          ],
          "name": "stdout"
        }
      ]
    },
    {
      "metadata": {
        "id": "wl7PQPEqWAG3",
        "colab_type": "code",
        "colab": {
          "base_uri": "https://localhost:8080/",
          "height": 34
        },
        "outputId": "a83dc59c-0872-4b7a-bea1-0effdd44a24b"
      },
      "cell_type": "code",
      "source": [
        "import tensorflow as tf\n",
        "import sys\n",
        "sys.path.append(\"../..\")\n",
        "from keras_utils import reset_tf_session\n",
        "s = reset_tf_session()\n",
        "print(\"We're using TF\", tf.__version__)"
      ],
      "execution_count": 54,
      "outputs": [
        {
          "output_type": "stream",
          "text": [
            "We're using TF 1.12.0\n"
          ],
          "name": "stdout"
        }
      ]
    },
    {
      "metadata": {
        "id": "waOyDpPJWAG6",
        "colab_type": "text"
      },
      "cell_type": "markdown",
      "source": [
        "# Warming up\n",
        "For starters, let's implement a python function that computes the sum of squares of numbers from 0 to N-1."
      ]
    },
    {
      "metadata": {
        "id": "ZIz-XNgzWAG8",
        "colab_type": "code",
        "colab": {}
      },
      "cell_type": "code",
      "source": [
        "import numpy as np\n",
        "\n",
        "def sum_python(N):\n",
        "    return np.sum(np.arange(N)**2)"
      ],
      "execution_count": 0,
      "outputs": []
    },
    {
      "metadata": {
        "id": "QtCu5C0ZWAG-",
        "colab_type": "code",
        "colab": {
          "base_uri": "https://localhost:8080/",
          "height": 67
        },
        "outputId": "8150d703-f6e3-4465-98f7-803b3a09f04f"
      },
      "cell_type": "code",
      "source": [
        "%%time\n",
        "sum_python(10**5)"
      ],
      "execution_count": 56,
      "outputs": [
        {
          "output_type": "stream",
          "text": [
            "CPU times: user 1.29 ms, sys: 0 ns, total: 1.29 ms\n",
            "Wall time: 2.73 ms\n"
          ],
          "name": "stdout"
        },
        {
          "output_type": "execute_result",
          "data": {
            "text/plain": [
              "333328333350000"
            ]
          },
          "metadata": {
            "tags": []
          },
          "execution_count": 56
        }
      ]
    },
    {
      "metadata": {
        "id": "Vittz32-WAHB",
        "colab_type": "text"
      },
      "cell_type": "markdown",
      "source": [
        "# Tensoflow teaser\n",
        "\n",
        "Doing the very same thing"
      ]
    },
    {
      "metadata": {
        "id": "yr8wy4uUWAHB",
        "colab_type": "code",
        "colab": {}
      },
      "cell_type": "code",
      "source": [
        "# An integer parameter\n",
        "N = tf.placeholder('int64', name=\"input_to_your_function\")\n",
        "\n",
        "# A recipe on how to produce the same result\n",
        "result = tf.reduce_sum(tf.range(N)**2)"
      ],
      "execution_count": 0,
      "outputs": []
    },
    {
      "metadata": {
        "id": "nrtvOGRMWAHF",
        "colab_type": "code",
        "colab": {
          "base_uri": "https://localhost:8080/",
          "height": 34
        },
        "outputId": "0fe05124-a5fa-4858-e468-49d9eb7d4344"
      },
      "cell_type": "code",
      "source": [
        "# just a graph definition\n",
        "result"
      ],
      "execution_count": 58,
      "outputs": [
        {
          "output_type": "execute_result",
          "data": {
            "text/plain": [
              "<tf.Tensor 'Sum:0' shape=() dtype=int64>"
            ]
          },
          "metadata": {
            "tags": []
          },
          "execution_count": 58
        }
      ]
    },
    {
      "metadata": {
        "id": "nIMM9okzWAHH",
        "colab_type": "code",
        "colab": {
          "base_uri": "https://localhost:8080/",
          "height": 67
        },
        "outputId": "8ea7c656-12f3-4049-fc83-784643ead4dc"
      },
      "cell_type": "code",
      "source": [
        "%%time\n",
        "# actually executing\n",
        "result.eval({N: 10**5})"
      ],
      "execution_count": 59,
      "outputs": [
        {
          "output_type": "stream",
          "text": [
            "CPU times: user 3.2 ms, sys: 3.16 ms, total: 6.36 ms\n",
            "Wall time: 6.3 ms\n"
          ],
          "name": "stdout"
        },
        {
          "output_type": "execute_result",
          "data": {
            "text/plain": [
              "333328333350000"
            ]
          },
          "metadata": {
            "tags": []
          },
          "execution_count": 59
        }
      ]
    },
    {
      "metadata": {
        "id": "PFwgCCAQWAHJ",
        "colab_type": "code",
        "colab": {}
      },
      "cell_type": "code",
      "source": [
        "# logger for tensorboard\n",
        "writer = tf.summary.FileWriter(\"tensorboard_logs\", graph=s.graph)"
      ],
      "execution_count": 0,
      "outputs": []
    },
    {
      "metadata": {
        "id": "CZ6XCmoiWAHM",
        "colab_type": "text"
      },
      "cell_type": "markdown",
      "source": [
        "# How does it work?\n",
        "1. Define placeholders where you'll send inputs\n",
        "2. Make a symbolic graph: a recipe for mathematical transformation of those placeholders\n",
        "3. Compute outputs of your graph with particular values for each placeholder\n",
        "  * `output.eval({placeholder: value})`\n",
        "  * `s.run(output, {placeholder: value})`\n",
        "\n",
        "So far there are two main entities: \"placeholder\" and \"transformation\" (operation output)\n",
        "* Both can be numbers, vectors, matrices, tensors, etc.\n",
        "* Both can be int32/64, floats, booleans (uint8) of various size.\n",
        "\n",
        "* You can define new transformations as an arbitrary operation on placeholders and other transformations\n",
        " * `tf.reduce_sum(tf.arange(N)**2)` are 3 sequential transformations of placeholder `N`\n",
        " * There's a tensorflow symbolic version for every numpy function\n",
        "   * `a+b, a/b, a**b, ...` behave just like in numpy\n",
        "   * `np.mean` -> `tf.reduce_mean`\n",
        "   * `np.arange` -> `tf.range`\n",
        "   * `np.cumsum` -> `tf.cumsum`\n",
        "   * If you can't find the operation you need, see the [docs](https://www.tensorflow.org/versions/r1.3/api_docs/python).\n",
        "   \n",
        "`tf.contrib` has many high-level features, may be worth a look."
      ]
    },
    {
      "metadata": {
        "id": "AV__VafCWAHN",
        "colab_type": "code",
        "colab": {}
      },
      "cell_type": "code",
      "source": [
        "with tf.name_scope(\"Placeholders_examples\"):\n",
        "    # Default placeholder that can be arbitrary float32\n",
        "    # scalar, vertor, matrix, etc.\n",
        "    arbitrary_input = tf.placeholder('float32')\n",
        "\n",
        "    # Input vector of arbitrary length\n",
        "    input_vector = tf.placeholder('float32', shape=(None,))\n",
        "\n",
        "    # Input vector that _must_ have 10 elements and integer type\n",
        "    fixed_vector = tf.placeholder('int32', shape=(10,))\n",
        "\n",
        "    # Matrix of arbitrary n_rows and 15 columns\n",
        "    # (e.g. a minibatch of your data table)\n",
        "    input_matrix = tf.placeholder('float32', shape=(None, 15))\n",
        "    \n",
        "    # You can generally use None whenever you don't need a specific shape\n",
        "    input1 = tf.placeholder('float64', shape=(None, 100, None))\n",
        "    input2 = tf.placeholder('int32', shape=(None, None, 3, 224, 224))\n",
        "\n",
        "    # elementwise multiplication\n",
        "    double_the_vector = input_vector*2\n",
        "\n",
        "    # elementwise cosine\n",
        "    elementwise_cosine = tf.cos(input_vector)\n",
        "\n",
        "    # difference between squared vector and vector itself plus one\n",
        "    vector_squares = input_vector**2 - input_vector + 1"
      ],
      "execution_count": 0,
      "outputs": []
    },
    {
      "metadata": {
        "id": "U-2Zo2p3WAHP",
        "colab_type": "code",
        "colab": {}
      },
      "cell_type": "code",
      "source": [
        "my_vector =  tf.placeholder('float32', shape=(None,), name=\"VECTOR_1\")\n",
        "my_vector2 = tf.placeholder('float32', shape=(None,))\n",
        "my_transformation = my_vector * my_vector2 / (tf.sin(my_vector) + 1)"
      ],
      "execution_count": 0,
      "outputs": []
    },
    {
      "metadata": {
        "id": "BynioSkwWAHR",
        "colab_type": "code",
        "colab": {
          "base_uri": "https://localhost:8080/",
          "height": 34
        },
        "outputId": "d418e469-2f40-4260-b0b6-8e2998d11233"
      },
      "cell_type": "code",
      "source": [
        "print(my_transformation)"
      ],
      "execution_count": 63,
      "outputs": [
        {
          "output_type": "stream",
          "text": [
            "Tensor(\"truediv:0\", shape=(?,), dtype=float32)\n"
          ],
          "name": "stdout"
        }
      ]
    },
    {
      "metadata": {
        "id": "5n37XphBWAHT",
        "colab_type": "code",
        "colab": {
          "base_uri": "https://localhost:8080/",
          "height": 67
        },
        "outputId": "661117d8-b8c2-4ff7-d20f-43092e62fe14"
      },
      "cell_type": "code",
      "source": [
        "dummy = np.arange(5).astype('float32')\n",
        "print(dummy)\n",
        "my_transformation.eval({my_vector: dummy, my_vector2: dummy[::-1]})"
      ],
      "execution_count": 64,
      "outputs": [
        {
          "output_type": "stream",
          "text": [
            "[0. 1. 2. 3. 4.]\n"
          ],
          "name": "stdout"
        },
        {
          "output_type": "execute_result",
          "data": {
            "text/plain": [
              "array([0.       , 1.6291324, 2.0950115, 2.6289961, 0.       ],\n",
              "      dtype=float32)"
            ]
          },
          "metadata": {
            "tags": []
          },
          "execution_count": 64
        }
      ]
    },
    {
      "metadata": {
        "id": "WQwjU1vaWAHW",
        "colab_type": "code",
        "colab": {}
      },
      "cell_type": "code",
      "source": [
        "writer.add_graph(my_transformation.graph)\n",
        "writer.flush()"
      ],
      "execution_count": 0,
      "outputs": []
    },
    {
      "metadata": {
        "id": "EV8ptmnsWAHY",
        "colab_type": "text"
      },
      "cell_type": "markdown",
      "source": [
        "TensorBoard allows writing scalars, images, audio, histogram. You can read more on tensorboard usage [here](https://www.tensorflow.org/get_started/graph_viz)."
      ]
    },
    {
      "metadata": {
        "id": "Q8el7VswWAHZ",
        "colab_type": "text"
      },
      "cell_type": "markdown",
      "source": [
        "# Summary\n",
        "* Tensorflow is based on computation graphs\n",
        "* A graph consists of placeholders and transformations"
      ]
    },
    {
      "metadata": {
        "id": "tL9RMZCvWAHZ",
        "colab_type": "text"
      },
      "cell_type": "markdown",
      "source": [
        "# Loss function: Mean Squared Error\n",
        "\n",
        "Loss function must be a part of the graph as well, so that we can do backpropagation."
      ]
    },
    {
      "metadata": {
        "id": "__3PCaLMWAHa",
        "colab_type": "code",
        "colab": {}
      },
      "cell_type": "code",
      "source": [
        "with tf.name_scope(\"MSE\"):\n",
        "    y_true = tf.placeholder(\"float32\", shape=(None,), name=\"y_true\")\n",
        "    y_predicted = tf.placeholder(\"float32\", shape=(None,), name=\"y_predicted\")\n",
        "    # Implement MSE(y_true, y_predicted), use tf.reduce_mean(...)\n",
        "    mse = tf.reduce_mean(tf.squared_difference(y_true, y_predicted))\n",
        "\n",
        "def compute_mse(vector1, vector2):\n",
        "    return mse.eval({y_true: vector1, y_predicted: vector2})"
      ],
      "execution_count": 0,
      "outputs": []
    },
    {
      "metadata": {
        "id": "BgM74G-0WAHc",
        "colab_type": "code",
        "colab": {}
      },
      "cell_type": "code",
      "source": [
        "writer.add_graph(mse.graph)\n",
        "writer.flush()"
      ],
      "execution_count": 0,
      "outputs": []
    },
    {
      "metadata": {
        "id": "iLJv545rWAHe",
        "colab_type": "code",
        "colab": {}
      },
      "cell_type": "code",
      "source": [
        "# Rigorous local testing of MSE implementation\n",
        "import sklearn.metrics\n",
        "for n in [1, 5, 10, 10**3]:\n",
        "    elems = [np.arange(n), np.arange(n, 0, -1), np.zeros(n),\n",
        "             np.ones(n), np.random.random(n), np.random.randint(100, size=n)]\n",
        "    for el in elems:\n",
        "        for el_2 in elems:\n",
        "            true_mse = np.array(sklearn.metrics.mean_squared_error(el, el_2))\n",
        "            my_mse = compute_mse(el, el_2)\n",
        "            if not np.allclose(true_mse, my_mse):\n",
        "                print('mse(%s,%s)' % (el, el_2))\n",
        "                print(\"should be: %f, but your function returned %f\" % (true_mse, my_mse))\n",
        "                raise ValueError('Wrong result')"
      ],
      "execution_count": 0,
      "outputs": []
    },
    {
      "metadata": {
        "id": "0jAdYTVrWAHi",
        "colab_type": "text"
      },
      "cell_type": "markdown",
      "source": [
        "# Variables\n",
        "\n",
        "Placeholder and transformation values are not stored in the graph once the execution is finished. This isn't too comfortable if you want your model to have parameters (e.g. network weights) that are always present, but can change their value over time.\n",
        "\n",
        "Tensorflow solves this with `tf.Variable` objects.\n",
        "* You can assign variable a value at any time in your graph\n",
        "* Unlike placeholders, there's no need to explicitly pass values to variables when `s.run(...)`-ing\n",
        "* You can use variables the same way you use transformations \n",
        " "
      ]
    },
    {
      "metadata": {
        "id": "HjoplmAQWAHi",
        "colab_type": "code",
        "colab": {}
      },
      "cell_type": "code",
      "source": [
        "# Creating a shared variable\n",
        "shared_vector_1 = tf.Variable(initial_value=np.ones(5),\n",
        "                              name=\"example_variable\")"
      ],
      "execution_count": 0,
      "outputs": []
    },
    {
      "metadata": {
        "id": "HvSxk4yXWAHl",
        "colab_type": "code",
        "colab": {
          "base_uri": "https://localhost:8080/",
          "height": 34
        },
        "outputId": "ad7bb75b-4bb2-43d1-aeb4-55cecc7834e7"
      },
      "cell_type": "code",
      "source": [
        "# Initialize variable(s) with initial values\n",
        "s.run(tf.global_variables_initializer())\n",
        "\n",
        "# Evaluating the shared variable\n",
        "print(\"Initial value\", s.run(shared_vector_1))"
      ],
      "execution_count": 23,
      "outputs": [
        {
          "output_type": "stream",
          "text": [
            "Initial value [1. 1. 1. 1. 1.]\n"
          ],
          "name": "stdout"
        }
      ]
    },
    {
      "metadata": {
        "id": "isVRwHXjWAHn",
        "colab_type": "code",
        "colab": {
          "base_uri": "https://localhost:8080/",
          "height": 34
        },
        "outputId": "d9529c89-a679-4ccc-808f-f03b1b98458f"
      },
      "cell_type": "code",
      "source": [
        "# Setting a new value\n",
        "s.run(shared_vector_1.assign(np.arange(5)))\n",
        "\n",
        "# Getting that new value\n",
        "print(\"New value\", s.run(shared_vector_1))"
      ],
      "execution_count": 24,
      "outputs": [
        {
          "output_type": "stream",
          "text": [
            "New value [0. 1. 2. 3. 4.]\n"
          ],
          "name": "stdout"
        }
      ]
    },
    {
      "metadata": {
        "id": "KiWhMfKFWAHp",
        "colab_type": "text"
      },
      "cell_type": "markdown",
      "source": [
        "# tf.gradients - why graphs matter\n",
        "* Tensorflow can compute derivatives and gradients automatically using the computation graph\n",
        "* True to its name it can manage matrix derivatives\n",
        "* Gradients are computed as a product of elementary derivatives via the chain rule:\n",
        "\n",
        "$$ {\\partial f(g(x)) \\over \\partial x} = {\\partial f(g(x)) \\over \\partial g(x)}\\cdot {\\partial g(x) \\over \\partial x} $$\n",
        "\n",
        "It can get you the derivative of any graph as long as it knows how to differentiate elementary operations"
      ]
    },
    {
      "metadata": {
        "id": "_jOgK2cSWAHp",
        "colab_type": "code",
        "colab": {}
      },
      "cell_type": "code",
      "source": [
        "my_scalar = tf.placeholder('float32')\n",
        "\n",
        "scalar_squared = my_scalar**2\n",
        "\n",
        "# A derivative of scalar_squared by my_scalar\n",
        "derivative = tf.gradients(scalar_squared, [my_scalar, ])"
      ],
      "execution_count": 0,
      "outputs": []
    },
    {
      "metadata": {
        "id": "Pr3RwlkzWAHs",
        "colab_type": "code",
        "colab": {
          "base_uri": "https://localhost:8080/",
          "height": 34
        },
        "outputId": "17e9c791-23d4-4707-b8a7-5debe14e85b6"
      },
      "cell_type": "code",
      "source": [
        "derivative"
      ],
      "execution_count": 67,
      "outputs": [
        {
          "output_type": "execute_result",
          "data": {
            "text/plain": [
              "[<tf.Tensor 'gradients/pow_1_grad/Reshape:0' shape=<unknown> dtype=float32>]"
            ]
          },
          "metadata": {
            "tags": []
          },
          "execution_count": 67
        }
      ]
    },
    {
      "metadata": {
        "id": "RzDmC8uWWAHu",
        "colab_type": "code",
        "colab": {
          "base_uri": "https://localhost:8080/",
          "height": 265
        },
        "outputId": "ada1e090-e905-4a43-c158-5af192ae70ec"
      },
      "cell_type": "code",
      "source": [
        "import matplotlib.pyplot as plt\n",
        "%matplotlib inline\n",
        "\n",
        "x = np.linspace(-3, 3)\n",
        "x_squared, x_squared_der = s.run([scalar_squared, derivative[0]],\n",
        "                                 {my_scalar:x})\n",
        "\n",
        "plt.plot(x, x_squared,label=\"$x^2$\")\n",
        "plt.plot(x, x_squared_der, label=r\"$\\frac{dx^2}{dx}$\")\n",
        "plt.legend();"
      ],
      "execution_count": 68,
      "outputs": [
        {
          "output_type": "display_data",
          "data": {
            "image/png": "[encoded data removed]",
            "text/plain": [
              "<matplotlib.figure.Figure at 0x7f87a6d1a5c0>"
            ]
          },
          "metadata": {
            "tags": []
          }
        }
      ]
    },
    {
      "metadata": {
        "id": "4Cyo38ukWAHv",
        "colab_type": "text"
      },
      "cell_type": "markdown",
      "source": [
        "# Why that rocks"
      ]
    },
    {
      "metadata": {
        "id": "S0YWnlA5WAHw",
        "colab_type": "code",
        "colab": {}
      },
      "cell_type": "code",
      "source": [
        "my_vector = tf.placeholder('float32', [None])\n",
        "# Compute the gradient of the next weird function over my_scalar and my_vector\n",
        "# Warning! Trying to understand the meaning of that function may result in permanent brain damage\n",
        "weird_psychotic_function = tf.reduce_mean(\n",
        "    (my_vector+my_scalar)**(1+tf.nn.moments(my_vector,[0])[1]) + \n",
        "    1./ tf.atan(my_scalar))/(my_scalar**2 + 1) + 0.01*tf.sin(\n",
        "    2*my_scalar**1.5)*(tf.reduce_sum(my_vector)* my_scalar**2\n",
        "                      )*tf.exp((my_scalar-4)**2)/(\n",
        "    1+tf.exp((my_scalar-4)**2))*(1.-(tf.exp(-(my_scalar-4)**2)\n",
        "                                    )/(1+tf.exp(-(my_scalar-4)**2)))**2\n",
        "\n",
        "der_by_scalar = tf.gradients(weird_psychotic_function, my_scalar)\n",
        "der_by_vector = tf.gradients(weird_psychotic_function, my_vector)"
      ],
      "execution_count": 0,
      "outputs": []
    },
    {
      "metadata": {
        "id": "6V5PijS8WAHy",
        "colab_type": "code",
        "colab": {
          "base_uri": "https://localhost:8080/",
          "height": 265
        },
        "outputId": "1f2a9026-8941-47db-b442-6a64a106d728"
      },
      "cell_type": "code",
      "source": [
        "# Plotting the derivative\n",
        "scalar_space = np.linspace(1, 7, 100)\n",
        "\n",
        "y = [s.run(weird_psychotic_function, {my_scalar:x, my_vector:[1, 2, 3]})\n",
        "     for x in scalar_space]\n",
        "\n",
        "plt.plot(scalar_space, y, label='function')\n",
        "\n",
        "y_der_by_scalar = [s.run(der_by_scalar,\n",
        "                         {my_scalar:x, my_vector:[1, 2, 3]})\n",
        "                   for x in scalar_space]\n",
        "\n",
        "plt.plot(scalar_space, y_der_by_scalar, label='derivative')\n",
        "plt.grid()\n",
        "plt.legend();"
      ],
      "execution_count": 70,
      "outputs": [
        {
          "output_type": "display_data",
          "data": {
            "image/png": "[encoded data removed]",
            "text/plain": [
              "<matplotlib.figure.Figure at 0x7f877d753160>"
            ]
          },
          "metadata": {
            "tags": []
          }
        }
      ]
    },
    {
      "metadata": {
        "id": "GXiT3VW1WAH1",
        "colab_type": "text"
      },
      "cell_type": "markdown",
      "source": [
        "# Almost done - optimizers\n",
        "\n",
        "While you can perform gradient descent by hand with automatic gradients from above, tensorflow also has some optimization methods implemented for you. Recall momentum & rmsprop?"
      ]
    },
    {
      "metadata": {
        "id": "5hrE9k1sWAH2",
        "colab_type": "code",
        "colab": {}
      },
      "cell_type": "code",
      "source": [
        "y_guess = tf.Variable(np.zeros(2, dtype='float32'))\n",
        "y_true = tf.range(1, 3, dtype='float32')\n",
        "\n",
        "loss = tf.reduce_mean((y_guess - y_true + 0.5*tf.random_normal([2]))**2) \n",
        "\n",
        "step = tf.train.MomentumOptimizer(0.03, 0.5).minimize(loss, var_list=y_guess)"
      ],
      "execution_count": 0,
      "outputs": []
    },
    {
      "metadata": {
        "id": "y9dTUN65WAH5",
        "colab_type": "text"
      },
      "cell_type": "markdown",
      "source": [
        "Let's draw a trajectory of a gradient descent in 2D"
      ]
    },
    {
      "metadata": {
        "id": "1yYW3pUUWAH6",
        "colab_type": "code",
        "colab": {
          "base_uri": "https://localhost:8080/",
          "height": 269
        },
        "outputId": "d80dade6-8ffe-4f4e-e06d-da5fc6334c39"
      },
      "cell_type": "code",
      "source": [
        "from matplotlib import animation, rc\n",
        "import matplotlib_utils\n",
        "from IPython.display import HTML, display_html\n",
        "\n",
        "# nice figure settings\n",
        "fig, ax = plt.subplots()\n",
        "y_true_value = s.run(y_true)\n",
        "level_x = np.arange(0, 2, 0.02)\n",
        "level_y = np.arange(0, 3, 0.02)\n",
        "X, Y = np.meshgrid(level_x, level_y)\n",
        "Z = (X - y_true_value[0])**2 + (Y - y_true_value[1])**2\n",
        "ax.set_xlim(-0.02, 2)\n",
        "ax.set_ylim(-0.02, 3)\n",
        "s.run(tf.global_variables_initializer())\n",
        "ax.scatter(*s.run(y_true), c='red')\n",
        "contour = ax.contour(X, Y, Z, 10)\n",
        "ax.clabel(contour, inline=1, fontsize=10)\n",
        "line, = ax.plot([], [], lw=2)\n",
        "\n",
        "# start animation with empty trajectory\n",
        "def init():\n",
        "    line.set_data([], [])\n",
        "    return (line,)\n",
        "\n",
        "trajectory = [s.run(y_guess)]\n",
        "\n",
        "# one animation step (make one GD step)\n",
        "def animate(i):\n",
        "    s.run(step)\n",
        "    trajectory.append(s.run(y_guess))\n",
        "    line.set_data(*zip(*trajectory))\n",
        "    return (line,)\n",
        "\n",
        "anim = animation.FuncAnimation(fig, animate, init_func=init,\n",
        "                               frames=100, interval=20, blit=True)"
      ],
      "execution_count": 72,
      "outputs": [
        {
          "output_type": "display_data",
          "data": {
            "image/png": "[encoded data removed]",
            "text/plain": [
              "<matplotlib.figure.Figure at 0x7f877ca2ccc0>"
            ]
          },
          "metadata": {
            "tags": []
          }
        }
      ]
    },
    {
      "metadata": {
        "id": "vOmv3NakWAH8",
        "colab_type": "code",
        "colab": {
          "base_uri": "https://localhost:8080/",
          "height": 309
        },
        "outputId": "f70bd884-3fbf-413f-ec66-e46f0f65228d"
      },
      "cell_type": "code",
      "source": [
        "try:\n",
        "    display_html(HTML(anim.to_html5_video()))\n",
        "except (RuntimeError, KeyError):\n",
        "    # In case the build-in renderers are unaviable, fall back to\n",
        "    # a custom one, that doesn't require external libraries\n",
        "    anim.save(None, writer=matplotlib_utils.SimpleMovieWriter(0.001))"
      ],
      "execution_count": 73,
      "outputs": [
        {
          "output_type": "display_data",
          "data": {
            "text/html": [
              "<video width=\"432\" height=\"288\" controls autoplay loop>\n",
              "  <source type=\"video/mp4\" src=\"data:video/mp4;base64,AAAAHGZ0eXBNNFYgAAACAGlzb21pc28yYXZjMQAAAAhmcmVlAAA3t21kYXQAAAKuBgX//6rcRem9\n",
              "5tlIt5Ys2CDZI+7veDI2NCAtIGNvcmUgMTUyIHIyODU0IGU5YTU5MDMgLSBILjI2NC9NUEVHLTQg\n",
              "QVZDIGNvZGVjIC0gQ29weWxlZnQgMjAwMy0yMDE3IC0gaHR0cDovL3d3dy52aWRlb2xhbi5vcmcv\n",
              "eDI2NC5odG1sIC0gb3B0aW9uczogY2FiYWM9MSByZWY9MyBkZWJsb2NrPTE6MDowIGFuYWx5c2U9\n",
              "MHgzOjB4MTEzIG1lPWhleCBzdWJtZT03IHBzeT0xIHBzeV9yZD0xLjAwOjAuMDAgbWl4ZWRfcmVm\n",
              "PTEgbWVfcmFuZ2U9MTYgY2hyb21hX21lPTEgdHJlbGxpcz0xIDh4OGRjdD0xIGNxbT0wIGRlYWR6\n",
              "b25lPTIxLDExIGZhc3RfcHNraXA9MSBjaHJvbWFfcXBfb2Zmc2V0PS0yIHRocmVhZHM9MyBsb29r\n",
              "YWhlYWRfdGhyZWFkcz0xIHNsaWNlZF90aHJlYWRzPTAgbnI9MCBkZWNpbWF0ZT0xIGludGVybGFj\n",
              "ZWQ9MCBibHVyYXlfY29tcGF0PTAgY29uc3RyYWluZWRfaW50cmE9MCBiZnJhbWVzPTMgYl9weXJh\n",
              "bWlkPTIgYl9hZGFwdD0xIGJfYmlhcz0wIGRpcmVjdD0xIHdlaWdodGI9MSBvcGVuX2dvcD0wIHdl\n",
              "aWdodHA9MiBrZXlpbnQ9MjUwIGtleWludF9taW49MjUgc2NlbmVjdXQ9NDAgaW50cmFfcmVmcmVz\n",
              "aD0wIHJjX2xvb2thaGVhZD00MCByYz1jcmYgbWJ0cmVlPTEgY3JmPTIzLjAgcWNvbXA9MC42MCBx\n",
              "cG1pbj0wIHFwbWF4PTY5IHFwc3RlcD00IGlwX3JhdGlvPTEuNDAgYXE9MToxLjAwAIAAACDZZYiE\n",
              "AC///vau/MsrRwuVLh1Ze7NR8uhJcv2IMH1oAAADAADVayF8oYJVUBkObi9U5yVoZjkUI4cD4l6f\n",
              "tpCA9k6jInm8ze5n3il1LyfLZwhQJf4uAACsHc7+i5K/a5ClCRqk69yth3ZlEQmSZP2WL0NcVnYz\n",
              "/j2J9StFgBqADndTUgBfmyOolbF8qlfDDupzxDUtx1KufOZGoMOAY0TqQSxcPwo4rC+fX0vQT4Zm\n",
              "cVAdufcD6yBjzCZxy8V0G3nkhyNssIMc4TAUnK0X+9hdwKXfgxnjlNyrK0nLoq2PDOX8JlHnvxNl\n",
              "qA/HwuMABkjgcHGskfNrhLPlf62/zFoVjaaxv+RsCH+znfu3ZVrgGtfagfb8VPm1THkAWrWtFS9Y\n",
              "W3QCUkEu+tmvnKtxNd2sh8ki5OBsnox6KIFY8SbRVaE8cXqODv65Gkla2ylGJIRTzx4WYo0qEVq9\n",
              "nDSf770s4451l3q6JkJ/5ZYKw7TwxPuhwp8sgD7IO/7Q8+MiPj0gDv2UIf4a07c//yImcv5SmlX+\n",
              "YL4dln13ZAkO7jERbrBOZWw+jIyFXNMRHI38abNRsfFyFdzKce7ETBAc6C28F1UNN6ZWqbsuXhur\n",
              "2Jni0sYDHm0hxBm0VEJmcN6kyIpfJ6pudoXYmqbgRzYvUN/iSE98DWJp0i2JsLM2UKoVJ9D2yXLm\n",
              "OQ4FcmPH/luArtjdzXMjY2Gpz5kdeKsw+G0fIFd3WKneBzFpDmbW01fDF0nsY6F0RPGIkdklonXo\n",
              "kOWLc88VccfiQyefILrdEbKrxS86J1x+v1PnZmeMwN5DSzQeNrjdyRqOynm5Tjg4ldj4nQrWDMpw\n",
              "GHH1oegJ93j85P5iKmTIWRKpe1J7vzfZZ1ZsY8WwJX6pIOFwIt2swf1NADImamKussKByVVoa2IF\n",
              "dkLg3HedJR/i8pzRQRN4hXl/pHbdmnZD9zBHRXzpb2svH6pOfUTr4+f1EYqFB505O5LzRshGvNLI\n",
              "Wf9HShaiAXcXVDfnKaA1VhnMze5xiW72YjfYLoGWMKWbxh5BIfQzmUukSeW/9SdED26OowBuPfZZ\n",
              "rO/SSTXoHkTb1gw0b6HuSLpdambYAhNSw6FsQhgvBPpYvTEm1EamUZ/eG0NfECFecLr1JLbSjj0K\n",
              "M2UKFAX6moDx+513t7K3S+0v/sl/XJrY31cp+tkjqxOpaB9QoiS3qd3xvBDPm64zVS3dVfocpwxn\n",
              "aOrk8X/+OqjoS1MSLUbyD6C+xf7xnxbcYUlHJwUMfOsYXtPL6oOKcTXD3d5gQ+2rSpke9gR8t7sw\n",
              "FKvGF/99qXk+KM/FntgkuAr6GM2pERG9QO0yjr1yoMkqWF86iSiQbJ5+rPoF//fcQn7AwzSXQcbP\n",
              "PmDyH/70R1vZVDAqJDrow9Vuhb0lxL1QVJQ2oIntMLUOVXoYuISDMYswhhSn+O6Hg7c7UT4KlqHl\n",
              "dKMYPh/Y17brio3BQLLdWnPZCccvCBp2RmTkF9traR+2ONHcwlBBGOm6GmPUjHu76wX0nI+gNWah\n",
              "GUD0yzzZIVvBQw/vA0ZY9ogghiaKPm/FCOp12yjEIMpAJDwP51u4zJzhsG1nmMljAuk0Ol+8WEEr\n",
              "zMeSoHNw7Bu6R9nT+fMn68KaSrGBFrd/KZMUWbzuVx0rI42tGCVyTBFpyiAH6S8yuyUM5hTitxcv\n",
              "BFvRheCuxRaIOsNDgVIiaKzkGHGVHoW015CEHdP6lQku1U7A3q7uJlytaLMieHpvH49VnFY4/D6c\n",
              "3XvaKCSXpMyisvlAuRSOcF/EYegnC/Rp+04Z3232V3wKrnZpCUCZPTQqv2EhTiBdYVboatWdDyPr\n",
              "jSJgaEhReO1YE+7hXduQnQTci6QGsDpTbRdtR7H/T/ediwZgL77BkzBDL87+P1hqDSJtQB2FfVyz\n",
              "l2YGaTXPeNw60/7EvIKqCGA4eQWWBhtML6sgR8E4CeehXyRrlhLOSgM4vmvD0J/Truvll42NIB6G\n",
              "WQeQ0U8iTIACtc/ZwKMawuzpkoeAcaJNa4BninBJWAImdQ8peGtqnSbeP4Jy69R69Jud/x5dTjk5\n",
              "tExJqgHY2lK1CB79HwOmUczxjExmWb1UvsDvmgdvnZ+0vgkvrImBSX681IpKure9QKm6FQp5QbwR\n",
              "CNU6KumX7upHyYLx5LipYKNJeYVPmk4LCY4CzdIF/Rs7nUEcboHE8NGxjxjK41sX2zRin/j28IEm\n",
              "+XqQV237CSTZIAAVskQ1JyA4V2F0xNxPOVzRTJqzv0QFHiZ9/T1QPiHVyDXkW6KshyJPiuoJLdQd\n",
              "vCgCZS0hF9TBH/dHC4b7IvgfP4I+vZ7SN4ko2vIZq2l5JS3x55WX+kfr7EpVMifDlcmhH69DAoZY\n",
              "ppBTd4APMjjLBswGPNfkCG6ASvTfpZkxChMNTAJJICo/uwJJ+UOIw5ODkevdKJA8cQWGykqpA0dU\n",
              "0N31oZ89NR6M+62Q5ibLb5eUq8+tlfZMw4GIzTjlMFn0lOI65DIk1HXrbXxD77CIuDrgoHWaVNB5\n",
              "CRlnZl4NLbZspFfLj9t86XezBafXeWgSWtayEGjljxV/aYbJSjQNhF55pPCAxaifN8+lGrlUU+VH\n",
              "6kqeOCMTshwL3gtWXbqiK5rL1ocKduAfFugUQWrkV4SSgLgWGw7bikfw0UUnftD+0oAmaMXqTnvc\n",
              "ie+EiytbWoGtbBZAaUAEszrYDhGoppkhQOq8+VUGsgI9D4PRQEQvPh99bq2LHAM6LvMOVj2MPHj0\n",
              "3dlq0ma0a6e680hLx+7LAAF1hamvs+2jrQZyPbrLSthKQRvACZNOiw0IxvjD2fre3isZvLAIzCo1\n",
              "/LZTIdCy2vmOJ+NYqKDIzNI4i0M7WEHWqtxPecGOMWPFSd5XaGscr2znDStGP9Zq/zPwldo/+2KY\n",
              "zy2TU9yvBjwovWcVvpfuyggf0q+zX9JGNdk+I3wCbpRCefo+9re6SguVbZ46X7iH2xsLKwp/wojJ\n",
              "pVNUo28p1z0HiKiSWqO/tZFXUJsZ3HxsTTlmYlme0TtEPtrSL/48aK79jStLM6H2Az/6asdFVMwG\n",
              "LTJf6ld7js+wqW8zjRUw6xJCzHuPFqyvU7Lo3ad/jwxEJe99Q05H/+Zw6xHjInp7Dk+UXv5rgFDH\n",
              "JOwQrZcedKpYTBmkt5d2+nbQqkTUeOiZrRF6/QBhiKxH+/20IX4fBGceQ9M5zuh2Dyu/XygqYbdM\n",
              "U/LkCzzgvrld/hxdPENHfXJ4qaZy2Ham94NelYnrpAjfZT2HUfeVO5M9kKXaUBrUebySEQJTBOO4\n",
              "YcaYcZ43RoKnxlWm5/0JWQf1Pf3wwU8tqYN1/s5k+toA//4bXc02+B1ZlBufUWoa0InL4xD3+h/D\n",
              "Zh6jaa7W7wUvf1PayhDt0xrCQQicdKec3W20YMmpUmxxXJxOHPyYXqeuUkNeuDuLKN52wZq8mIuF\n",
              "RNAds/lZa/lVDUcoprYES3RHT+xB6s9PoPdUujpO7uVfJDGQ1VDkshoyy8Vv+4AwcHDM7Qcfehyt\n",
              "UsELeH7xghrWuhRT47mRx1e2Ynnao8NrzotmMZ0UvOg2jBJsd5KQYVpq4xos1BZlWQu+r2PX6F+r\n",
              "z68i/BL0pT9H6svqIsm3NnRBc4bBReaGAEWbGDMOy/Je50hev0lovaFHq+4zs5jYukCOXMgpDckk\n",
              "dN7KTfkKf8JR1MAS9VaxDyc9zJSQelFq0dX26d46E1yZcyU1vEk0UAUZhtK5SYcCKM+T3b+c4ZQC\n",
              "tV38ZPa4Asa4hQG2yvtR/W4tSA2Lml0eXJ/LzR5Quz1nysynUG/sJid2fD5gmn1wKKVaPGepvGqV\n",
              "63B2vtKcqMkzBdK0Ks7QbxxHwVlFvtio41iIvaxcSub1CRI0X/GcSZNEoA3RqHd4M4mi/h7FYKcl\n",
              "w5yBZYE6V+x6M/D9sODWrTQlEJT+m/O8fa15V0TB/4OAWG1nlWTuyvj8W4xTWbxqphh8zcvbLk1H\n",
              "w/9GDEH+/fPkagOHD0avuUiceRkd2obHg3O7HkS5E52h0X9Zp7QoMGGUfzl3G/2TQNb8Yzj8TQB3\n",
              "o7VkQAS8n4X315S6gdm2RISIeurvHZiy1/zY13f/bBpcYS2HQ1CRbNThxJB9yOK5mkfSx1IXAilo\n",
              "UfR+wy9JNK1TbzUmfcUu/An/c50QXMvvCkErPwfU0Hk1pGnvv+0sv++kkR5qzQlKhp3g0WihC4Ge\n",
              "sN9Oqa1LTI4yC5QWJJzWAGK2mPg6CyBZpKBcOJ8GtPN5ShGi/uXs4MPj2vs2omWlJkYZ0rv38Zh/\n",
              "cPbdyduQs082feb3//2u+EsT2RS2ia48fAJ3AYNbH/twYOKDvUSftCwrxpOnBxouCWJL3epBPxXw\n",
              "29pclkKbKFdspHhMiCy6wPbmu0zWPFlp5W29zFjrCFH0pwubtipmu0z/9UzBP7favAdqHoXHFSmJ\n",
              "1rq3KgD2r3v9Os18X24Y63pVvxqf8WLnwQt487ddliLs2cRMIjSgLknD+wr3/s/11T8+EpDVTZ0g\n",
              "Rv6kLfxPnj4Q6qp+q5uQiTHYhn9SX2LhKWO8IbaoaxeJDwxFa0+aHG8uPyRQGod8ofWrqP2UrEkm\n",
              "GIWnMfaKt1fNLTbUJ5atEZzaAle5mXziuuxOvrRB/+kuvZdb5WFMtCqTcCKKqiuwPX60Awha2asd\n",
              "Qp8sH7LCJgdwR92en7JXWv5Fkv7rwE1qFBPEXLsck5C7LC21x+r4gTCQ62zdk6WaGDngY6g4WbOW\n",
              "bcsMda2CnmwtZIyNiwews0zYniwX8wdQF0tXcm3FLod/YKVsnEvetsiSibJ8Uf6ZDJl6Dmxm0FoY\n",
              "hbzwWfv9Z+VdEj6N4ZDq04ty3hib+WFEk4lL56jAbvJrQeXEFOGORsI9Ue1Lmv4qe66K9D5EApxP\n",
              "PSYyS/lRcrEfKqWVHE7E70WfxDz5swuaAJwah3ogVWlRhbaOXNc8pr/vYMgOz3I4WyuGoTe08bi5\n",
              "wFnH05H7LVoDjKtVf7pwVBbFlfAtryIyt0i5acAmHX4BM9HOMVjJYdPYjsdwsdFijk2xjODJDT+1\n",
              "ZofZWfI2yCmjSKqExXHfqFi8WBIHk2EGYcjf2WH0bT47tY3WyiHmbw0eYNKX/XLpGDLk4wgH/skF\n",
              "LnNpjWcrGFledRPVZEQrUGccW6lmNOgDpMmSTatoLPaQR5vRQ/0a3XZw3StY/qaNMJQkff5CZ1uK\n",
              "KOdhtiU4S6JyJCzZeaBfv1XGflzbhzT1UD+SVyXRAxUAplPRJP21AoRilcDvitFRlPzhUHgDkPzY\n",
              "DAWoaCTcQff5atzDwIkmu/YW4Hj4N8sZvHiNf2+TVa6l57VydJEqvEt9LJjda2UwfOesMxgP/lTA\n",
              "FauGuXeYfy9uLLeWGehYyF7ohmFShIdv5qk5KR4ADQgk3naMS+j8gjyd5k+b56mk0b1oVncqeFSY\n",
              "XAx45KAHuDvVnOUQNKSlAuM9rvvAP93XdXrLPW8NyKph96vmRe6rjDHmbQx48k7z4JWofluLaL1i\n",
              "iKEwJ8e0aAUQ5xU735N1EAd6Ws+O7mM3GIeatnGHKGkT4KorS/1Wo8Kl37E6BOX/D1Ne/hKyPYLA\n",
              "9PZkr6MfbD49WJCqMGJZRoZVgtv1gieX0+QjJVsjSSHlM88NRwirWoX9CX7hm3IBg9RdCW68ltcO\n",
              "2RzhDASnmmVF6ugdZwtQVjieEu3mKH/Ss/7iqFVc3Ct30YOJEw8Qa91IUQMLaKDeJ2mmiqjlcmMJ\n",
              "+uyvMY3e3Efv6QbHOM0PInNSK/77xipBN7Cs1KUWMPvuAbl4i1H5VEd5dWbv4GOl21/KjT8YWVS6\n",
              "8O6pLVb5Tdi/bPXEdfT/vahCJD8MPV+885k+rRJrDhe73+9uqExE+rdwDOTG/2UWFJ74aaTecnNI\n",
              "7+4HynFvzKz/SF1HzDlXry0Iq3J+3fTIq9MDoJ28+fZWUZI1aoTZtFQKLZyzU+alLXsc2IgxeT/v\n",
              "YijfP2dFbpelXm4hfdpvWK495MJOV8dEcjSFsHHmi5ChhUVetOYm9jfBwcMxbbHw+O3ulZvwFlVU\n",
              "Y7OwRPNqYZwev3Ijpi9sKbdvwORie38ueD13jkeir/sgggBNRbVGQB8LjOAjvOi/002HBxw/jW1Q\n",
              "UyQY7gHt1hi35SGgzmQWL+TCafJUflmgHCs9EL11nNB5MT63gJpyXfkhp8hs5xWaOZ82DNILA/y3\n",
              "pze9WZwQxjiP8Nv0E/i2fmx641xu7MsvGuyMBDihlQ+IlT/wBiRRHsul9qFg5bTYuar7/W4fEbHy\n",
              "asiaWH3Yfr2f0yO902g6OLvmRkRq+zRWHUVAbzs89k0ndrvZN5jpYC1hUaRIsUhnrejDAvV5G8ee\n",
              "KhPY9KJ5fMG6gY78YeGwggAd+kejZTtDb13yQ+WZjCnYVRG4aFgAxjVpX2m0yfiwKqgd7mJpD8dv\n",
              "+iSt0emaDIT2CHBEU07C6YrVBTZHgnfYy6O3DtmIlEUtSsjHpO4efyN2tgB2bAj+Qsa76L6Eq4W+\n",
              "GIYOoB3Ksd72cdjymi5+I8qBgARIImY0A3HAd4uNP//6BRb6GT38mdJBXTDZkAcQs7EnUXeZSo+q\n",
              "nk8eIWkVKfAXMNcv/6uheYx+WJDgFl1UFB2B3Xli1JL1vinAsKzKJStixgc0s4pRWZjYINkhtn0b\n",
              "8U78Cb6b7BHzLzWnwYdAxPjSO7kBbZqB/u2ZlgP8n+cNlIx6ytH1OksHIGFudAsHVOl7YlGziI6U\n",
              "ba7r1wsVfYQov3xgpP2BUpUGMK/ux0cE8rXBWkK+d2x55LZksdESosIf96/9LgESkxfWut2AhSmt\n",
              "ZcvcXpdYJxi0RReE/zxPIPBc4/xbpGQXrccs6pdCM/lfgr/K15Xu+p2LGW8G7zB8hDkVtPa75tTo\n",
              "ff+h+N4QtLX/A/qoi/C21qS3Y6WwZe0FrCWxCkU8quL+gJrNFIA0UsWyCoCt2NXB4ke6SPvSIj3p\n",
              "8XHIbtDnJ/9nsnZ4Ap/+C6AmaHD5E+zmIrKc1b9PrmCXCcpCBGyl6rs3ukqQuUML6gJmbmuKLDHy\n",
              "ba9dzjKJLSC40y/V4o1IMPRaa9tMepqtaZ0UFkiraRfspwjXGRikFk9yUcBB8vvgh3nuQ3Bx+Ri+\n",
              "oW9u8eqxzFKPMeYzLjINK6W6x9UNJ6lar0EYahn/2rqQjyvjMSgetoBz2ZmsfGyHPY7kI2o+NbF4\n",
              "swtqjvyhED0rWqFRR5ELxbeUUvd8QNL5GXVF2tj3T94xNVE1BnAK84db9Cp2ahYAsfB44H0wjVe+\n",
              "L/4zQv5aFqciIg+xlcODieiXdVMJz+RyXtUa3VH+Zi2W+63WvUzeTis+7x1P8zDACMYLmePgimsG\n",
              "eLo6vjbzPZPoZTr2CsgJ7IzxCGO4SCYgnX182/e9uh2R5t7h7iVdVd3liJvCDYj3TQztPQ6RK2VR\n",
              "KzMt0sQ5H8Fc/v+YPGx4e224/yf3NOMxCEXgNAk7dx+hEWaJWaQ7aN8M5lQhHzNPT4ednlR3qSNV\n",
              "RDP0lDOI8IZp6RvqGtB+iS9dUdrlcOkpL/MNA/p3hTplG9kh0KjSQa7Co1xiw0k9f9DAWL/OdeRT\n",
              "Ek5nbfTFuvUcjhlfjKfBGwNh5uJVZ/cplTtxOtA8TOw87pKQZ7/BlbOgDSDXXi7AsyLg3auiV8pa\n",
              "TEU1l9PEaqYK9QrJGPXE1rOTgtGyxrbc0bcXAR197P+FgZa2W5n9jCpDIwC2/TM/p1Yq6SblTNpB\n",
              "P0bCczTuiE7Uke4TR97hNlzY5SbkUQHRpe2CKLTVCCmCcAJMQ9Ks/RwmX2gB/SjIQYnGeQb+B7nJ\n",
              "jSHX5xZ7VstFGeA0/xOfoImkS64CPc6Ag9Wpe63PSXeiX1EDmgsEUICqkPFmXTR60escOz7je5PZ\n",
              "VI3Y8JI5f0J1g7a7lNmM6HU39d81lkfbCpOmUqu4qmaDfaLDR7IbaGpvLZZ3iMvOVrnXq65V56Iw\n",
              "AxZqbal5IhM7aSyZX0FnFZPKksdev+mVQd33mdrB4Ff9uIYWbb26XjEMVLycKH2Miur68PNQx/CW\n",
              "6PT5P3hg1UyTR7da0W0BhnZDiSMOAqzPc9lOnW6ABnKeC8R9gXwzGTitvDHh1TD47mdScBe/Z5+6\n",
              "zIh5jRAv9pawmAUY5NMLG7a/91lQ5JjLFcJhV9xHwoJVet4S4vPcBmRnsukSFfT2e2uWa2EHxh0f\n",
              "+K9hG+qd7QXQmVnHKYSQ13zu8rG/WIg1F/f5V7tcFlA9ANH9/qGAEf93UjFVrRTAiof7Ank+mJwd\n",
              "OQf3WIhG3xkQqWnDRZDFF4KWhJWE1L1n8Oy51hQwMV+p7RcQrktm+gD4ODYIXaD304rlj/Hbj+Ce\n",
              "5fraPCyLhJ6wP7ZDAvGr0Ytk2o5G6f71Nl8/Q68PNeddOxRlJXLx9yHkcHMDV7SG1Lt+7ju9UAHD\n",
              "7lFidmiksCe0yQ5m23AjaUnCPUvllqBQNm19eX42kQZLu8zqNSYP52u+93t48/g6/7azs0I95iB/\n",
              "7oa53fMjDzzJzfXM2nUe/vOI9NlbiMDXF54taIAzZQ4b9VvVuVbIcNaGEtn6keC0plDHTfGqm/g7\n",
              "ZZNOtL7cqhiBpS8JUWn2mCv3iEGRcCRfSRlM+DNEf25rVjyfVr7vNYUzlvJc09CmiMqiAZLzCo6W\n",
              "ME2azJQKSS+Y+FPX9yxqOxDN+k1GTwzQ+HVEQIzPeVadNX/Y1TNEfkcAZw7MJCiz0My5L/cIs+T9\n",
              "K1oXOhzGz84zKN3dSX7VOyL9LdhjWqec4ZpLjXwi/ERb19UAe2cZBeF1PR6nvRMSXtbMlT65GiRS\n",
              "6W/zm1XFXHLPRbUaA+1HxmvAsh2IIRkQksjts336kTHkMe/WDz0FzV5J30OxfZmaaAztxvhUbvGL\n",
              "zfx56mFbql/T64DextXJsnkQ3gyqxXHu33lzlXojSodzcD85qwnGU5S9Ws1OZ92blhyhDB48xh8Z\n",
              "rUNddGJAlJcONrFiARQy9j6qDREKqoeGTklq1OG0ilqXL9ZSQBLLuD+KOmtVncJTjZzelMjlhBF+\n",
              "Bg0bqyWbkClh3P0s9sJyyCXLTXlqWFecAzRnVFewY/W7TSh2NgP/+9TwQ6/7J4jPIRrVFmuTO28H\n",
              "aDucFn/MpGjdLCnrVxMto/ICwKgDA8cyN8VklvlzsidCprfltXPzTeTDZzo8UdXobRzAK07V92yJ\n",
              "aAEKe7+2XkswidUXovhecrZuGUq4t8vBdMYy94+GlP6gLOiDU4ekXmGxQsw2BGFkBXlAZY73GLSk\n",
              "SZI8BElVY9ZOijy5N5Pg2LHeTmWTzJWToovdip5WAHqvRGIsDE7j6f+Aa3woDrhUMIsStcMGgRVw\n",
              "Lfr6g2lDdMcNLlXfXNP6se7DD7gpP5e0YKa6oUK+m4IDlouy38lI3mE4KlOlrN584vTjkzExAek2\n",
              "QA1Lgn1+kVNlxhvmw+23F0wq+gLZZXQi3tlEBAYRZdoVO16Bs51tFBbTRK8u16HS+EEzju87bX/Z\n",
              "gj9xu2KtjM8q/4jLDIV7SmQiT7z1cngCKxkTcAPNGEeXTccMzDJAe/Xa/fid/j9WlJVPTp7h8K9B\n",
              "E+gcb7bVpKkJub0o26Yp7u7babofCCO2+atcr2iQ6p8hf3FNVI4z1eUrVmciRxKToFAPfrRWOHSy\n",
              "AaStm+hhUm+JRQIGEWydeRtZqVx1B0TMGGc5mMqB9vSkNOelS2+cEfTsWHLQwDApjCvBq4AK+pXy\n",
              "xZrL9IxRGRXCOX2vnrSvyRHIqktv1xI+fSzBLMOvuJgOJzGO06USj8hKaU2TXnfkC//9zLjXjwNi\n",
              "lyMG+DWBoqKQdEYd0fX4f23knR+6/TX+4yYdF9MqyXDPyx1YYSBkIkTtMPrWqwxyAtXCccEm7D7A\n",
              "Ohc5+SF7iB72occHcMTkIqIlTfQvZTj7HskDUZ0C696n1Mm3SLTUYNyMoz6zRnIyk67HY4deX0wV\n",
              "Wt7cJDkw6USca0UWZD7elFZsJN+CI7bVcLo28AbI6x6Gi9iA00YjcGIwlam5on2hFUEF3cxZGm72\n",
              "fagJPpU00mK+c4yEgWIoAe5x3BBWqmP3Zap+5WyylUNHf0x9s773dOwlaNaaIy0n1fw5MVS5DCsF\n",
              "sP5jamsw+IBOWrbQdUjdaiuOwboX+BkzoQ37INc/5p7FHw0XUfGPTaE62cip03wxLmjiVUvFE4Wp\n",
              "rxoYbGQbGLqNLk+xYJl4kU0zjMrheBMVr2FbrPvERAVnUTDFfnJd2+WbbcydSH7qlwei2/Ne6QL5\n",
              "/lIhUFk3Z6/jQKapBpOsgHC6htLsEmXJXgUV/R+8fxDgpTWyyKg7U3dr/PkwwaLsnyHVPu5Tg1yE\n",
              "frQ21ZSZyKJIKS5/MI16drK5BK7ZegsIOGRdpcfqbyz8YAehlYO0ffNMOh7Q2yeCD9ykqmra+9e5\n",
              "sJI/8UvovJqNIA9ZFh5lexv14iccJdy47dVMx+8oT/Vkfnqb9qCRfUhWeOwtSyb6y3ybyhkZKCkw\n",
              "eQxKSOBGEW3nTAsgHUMfbHvRYIEeLPtQPhQDOlwSYa1sBrdPULfiUlntKazaKrcHDyaeBWxH/aAO\n",
              "nGi71FS16A4D5q88cAZUHohrwkwd4GxLJCsK0WY2i8rBmo95+DYDoho3gLsCGepJfzuCK25qZcrG\n",
              "HjpLOFmVRAfu3D+z8M4IB7v2QEkxIE5ZlDDsEGvOFniKYfhWtEe18IYz7aWSqq9lQKaXjslM74vj\n",
              "b1E3JmUZW+uUJvaZq8HDjiGJ3AQFymoG4DudrPWOHS/eerIdZ2xOrA6U9oadZd27dV6wZ0OVtmiM\n",
              "oxzuEQK6feuTqzzfYftEDmf/C8PqhM/7OHVl3kwpZn/3UUlj2J4lqip3XdcVvcWo8vKRouiuc7EI\n",
              "hg8P+LZ0t26PDy9Sc9l5BHCiLFcSFvMraqovsIZqBD1glH58Dj/Chr0suXVsq06M/2yRlqIqEALU\n",
              "EAfQnt8cXuhymXQzxDYW7ZCoxlCSIpaxe9ufiTx1g9WZftgQIhRrKPg1rtA0zXBSa6VmdzB0T8yB\n",
              "jsPXahEFSN8tZv3yti9kxBghsMY5GMp1lkVLLtRS0Nqvf2HOsGMESSp0EuB2gSdyljahS6CQ98Lo\n",
              "hjjEH/9bLuQgXfbxpX4FweTRpWYGMPiYRSRUAZ1iPSHvOS9HmdSfUoc07AiLTLQt6+uSflZ1YHEa\n",
              "8H534xMdj5MxAXSKeAgiRWpaSCd0Lmy6kYAMdQGoHO8estazn4/n2gGbus8UuNFsDJGd1g4OJxLP\n",
              "kqrMZV5vcUc6+QAMjy+a0PauQD6KKwMZp6DhAAABfEGaIWxC//6MsALJ9wRCONO1UtifYLc5d13Z\n",
              "oLOmU5rO3ogHRp5KOJ0S1ymF/xhi8Z9Z7eV0FpqgMbJBNwwByhJl/RFSEpmLkWAWKXGzQbP5JvuO\n",
              "6tGphIkXeMthjVxWQJzFbu3R/9qqufRR58GvuNsph0Go1k4w+Q1lzVfD8vw6Ox/6NkPshyEj3DQb\n",
              "KcGMudMOrF6VQxsBMy75ABvTh/7qc633fX9MOuqkY3A11LHSIkFtg9Y5k+WaSJZo6mPEGl9MpFoC\n",
              "vDI+tFCsD2IFNlFuTIjcaqz2GvrQqxK8mkHcQXV3ctK+or4Mcjf+zbJmMuohkspBcqib0UCTweFx\n",
              "oXXbE0b/vRvwRsZaO1frN9ILU2vNQ4Hb3RD3EF6UAqCdHnP1PvGqp8VlSZRXj+dRT6I/3RB6oIGQ\n",
              "MHyUUIhGcMLA7+4j/z5JKSFA14NBCBafPrPp/M7o3dJhralrt10Gp9/FcvLi1USDRVPuD24c85VW\n",
              "0V/fhkxHmogiAJmAAAABLEGaRTwhkymEL//+jLABgHVBEYh0Za5TuKh/Z1jS7JdAGmXINW+Z26HZ\n",
              "ftzPOGYjVJYWeZLk030BqOrR8SokbPR3PJcDQcd1lYrj+EG3cCAnBth8KaSQCYi2ioi+7eTIDrB3\n",
              "Qi2FRzk3Zo2LAvZl89xqWczsaVvVRiXGgv1ZGCqgijJ0QdEQlqigmEshnMxCEq7L2s4Y4FFi0/tA\n",
              "RwS6Vv9/XDgHPRe69CP/xf/F4xxEg+XgD/UjgVXoF8UEzG4NucJCWSnCaJtK26FJdpI9KB4fLsM2\n",
              "rFa48Ui27DDRWfVCxL/hEgEVT08AWDWe1cgk8gJh59xgvl1zT7pC85p1XS9XfZthO0mM93/V7az8\n",
              "7ygMsI54BLSbS4ocaCz9ZuZ8AQDNQhz6qIeRSDc4IQAAABlBnmNqU8I/AACNKKlaU+snlhCG7fDr\n",
              "lDLhAAAAGwGegnRH/wAA4kVDJZOw4AJ27fdvcfMvnL0UgQAAABMBnoRqR/8AAOLAHwfrCx/m6VMJ\n",
              "AAAAdkGahkmoQWiZTAhf//6MsAGAdUERyW5l01HhzdD5J+uJdQa4foVRksyFXUnxGt5h3Sa8MPgF\n",
              "w4CfxZGvL1+U8jUcW7qSfF5vUWNLLGGhKvSniASfBEgen6QSY50+CrP8oYNTg09NQz7I1CLkU4KX\n",
              "VW/vVMR60ykAAAD2QZqqSeEKUmUwIX/+jLABgHVBEYh0ZeCyn2AqzAn62zDBj4YnESnUoTG0TnjS\n",
              "d/PYCEeO04zkXVYYpuq+3PnuKEZUfUCR+JJYdxP5E1f6ze1VYXeeTrb3IbL868kxXa85N3emc8Mu\n",
              "4gnsr/EeVosR0PFyyCT8B5Ft+MpIQyvlHHlyVkeXUVoHlMP4/UVCqL8qxKZBqV1+UmjfbweCMnx3\n",
              "/Qa1Tu6/h33wtE/b05aIDm7qfbpmE7a+Le7gqJIMpSJzYMX4PCaqLKxL464an0S6zYo7K86u9T3N\n",
              "lqBrz2SAc1vTHCUlb9745vmHboYnHR+keVs58MUFAAAAIkGeyEU0TCP/AADzQ+Sr20muybGAEkMa\n",
              "Gewf+HFcpspKqMAAAAATAZ7ndEf/AADHiFKWdfCqezOucAAAAB4BnulqR/8AAYf5BVrACwQ2z5Y0\n",
              "R+X/EM0KmoOeUP0AAADQQZrtSahBaJlMCF///oywAYB1QRHJbmWuP+8CnfJP1wrqDFHlz98vX53/\n",
              "jYrjyCKugPHdDImax7cFL+oSkhO3c8OJvAzOyyiZGcOs/WjHV6G0Vfb3LYk34HOkf48e9/PjKsVz\n",
              "JG+VzL/G1p3AZzQJ103LB5PlTAUR/KJZvR/3inLJCrclmXqt2TuefK/7o5ykkrIQpchh2KG5TANC\n",
              "VoP52VHekzIF0ZLeT6MxyB6QhJ0SdvCEBDHDqVNOCHQd+ZTiiRsrisrYgtTZ2K4ZdPelfAAAACNB\n",
              "nwtFESwj/wAB27aqp/MpgKoARk7af7NcPsoulxqnUmfmrAAAABoBnyxqR/8AAvyACAARRZx3pzVM\n",
              "NajLArcjRQAAAI1BmzFJqEFsmUwIX//+jLABgHVBEYh0Za5U+wKmYE/W0YYLnKMhkdaib+ImxEeL\n",
              "OqGW8kPsVqSe+wPMHM4gWixXxQtpS5LfRQkmGtOxyjuB68eHCD9V8b/Q3XjfVtcAym3bVpp1rD6G\n",
              "TjDxU4heQ1pLg0tSVIFhiS9EBA/8yer6rRhk4OiKXY3k9MNID0kAAAAmQZ9PRRUsI/8AA6ESU/FI\n",
              "7WdKanscAA2r6qWu+HkSLL2P+CKcjoEAAAAaAZ9udEf/AALkhR6dABZwuofEKS9/k1bfe0YAAAAX\n",
              "AZ9wakf/AAXUgf/vwAFrWts11DoHY/YAAABqQZtzSahBbJlMFEwv//6MsAGAdUERyW5leQgdD/7E\n",
              "/MPeWbQMxfLfH0VYennW0vVAXuqGWC75HdhtJAXG5UFOnAMu+c/OKHT+ZxI2lX/hdv8EnOsi57qg\n",
              "OPAMFovcj4cHtD/xe4L47/dCDwAAABcBn5JqR/8ABdbcUAH7Fnt7GaVSVm8VfAAAAJNBm5ZJ4QpS\n",
              "ZTAhf/6MsAGAdUERiHQiiRQ2S7IEpl89+If5UEu8LrmM0+6xncjoUzRxvoB01HE83AUCVLMZNTYo\n",
              "PynGAb6m1jg0TwnVbX+g6YKc+mMOLK7ryWSqgJJqxGs+AlpPkAy4K1Xibw6cZOz9vCd3h79SkgKm\n",
              "z4BB8HiMMz3Q2TCs5Psqa5PFBPcLG6BHYEAAAAAaQZ+0RTRMI/8AA6BCFABbxclD/cK2ToMvLNkA\n",
              "AAAbAZ/Vakf/AAXRNYX4AFZ8vhYZbvF01RaE9jFgAAAAWEGb2EmoQWiZTBTwv/6MsAGAdUERyW4i\n",
              "iQVSkgYcKCKsnGL6RBiwS5RsE3jLKm0fwXMA7U49wI2I9B/57/GDp4ozSjX5AIKzPOMPvyta6Yc9\n",
              "uYteyn/r2BEAAAATAZ/3akf/AAWttvgA2z1XGJcVnQAAAFtBm/pJ4QpSZTBSwv/+jLABgHVBEYh0\n",
              "IokUNp0BUGnpsNVnzUCNIp0mwXcd8/zyHQ6BEaXX2IVi8UOfzwWLFppCUtr8UuqyBAROh0rIJ3+3\n",
              "GKRFcrrXgh9yxn2gAAAAFQGeGWpH/wALZMcAEe7NCX5hUam7gQAAAGhBmh1J4Q6JlMCF//6MsAGA\n",
              "dUERyW4iiQVSnh+Y2/Ugcx593/AZJmSibxC6UoyomnqE9ugpSCYihArvdd4NTnQz5xBQ6BOWYCDx\n",
              "HnovE2kGE0uiZFFwT9gyrK57OjtVm309vVrKMh9nwAAAABpBnjtFFTwj/wAHE/1QURAAr/XDtEst\n",
              "DyiFxQAAABYBnlxqR/8ACwrpzYAHBWUMwN1vwVoRAAAAUEGaXkmoQWiZTAhn//6eEAF9dPUH6Ztk\n",
              "f9zlpFc8jHmRH/WrvohXTrzgCMTj011x5ukaF+jdGL+bPYdIwjKZjP6RO5EsC9fQVusHO2Z0AFTA\n",
              "AAAAckGaYknhClJlMCGf/p4QAX109QgJeGR/2FIrXPwZwb4h7dqyoBkyoEoZOursR22gKXDKR0uu\n",
              "vYM+34uMnLFZQ7jZG0EMygHp9xMxHdn+m7fw22ZtOcbK+zLgCmSryrDMogbhFK4lOWNsx2s7KFOH\n",
              "OGwCbgAAABhBnoBFNEwj/wANqdKH1mgBXzimCpnL8gcAAAAPAZ6/dEf/ABYuYF/ltApIAAAAEgGe\n",
              "oWpH/wAWOY4AHDTSLHYi4wAAAENBmqZJqEFomUwIZ//+nhABfXT1B+mbZH/c5yLsvY4ZSiE0vVF3\n",
              "5SdviqcTnkr3jkcjrgeMMXgVQw01cX4j8jxKxcewAAAAFEGexEURLCP/AA3be8ARD58kXQelAAAA\n",
              "CwGe43RH/wAAAwO7AAAAEgGe5WpH/wAWOY4AFqH65/URcQAAAFlBmupJqEFsmUwIX//+jLABgHVB\n",
              "EcluIokFWHbYjO2yDzXmPRUoBhaQRDs4yAkZv3B4UiMZnDYvAqw0QVuOttKJisgiTh17julXhQLi\n",
              "vX1C+YlN9fOo3sPhYQAAABpBnwhFFSwj/wAN0fEQANt2uVSGDsOebFnxoQAAABUBnyd0R/8AFiJU\n",
              "CADgvHQfft+CmhAAAAATAZ8pakf/ABYmclABanbT9MniZwAAAExBmy5JqEFsmUwIX//+jLABgHVB\n",
              "EYh0IokUPGK3hFeaWlH9Q4beFOP9eJj3GFaqrgCJgcSE+5mr4biGbXkPunoYV7sCetQKce0yR8LA\n",
              "AAAAEEGfTEUVLCP/AA3KjJP40IAAAAATAZ9rdEf/ABY/3mACWqfy3I8TMQAAAAsBn21qR/8AAAMD\n",
              "uwAAAE1Bm3BJqEFsmUwUTDP//p4QAX109QgJeGR/2FIZnMp8IjhLsUBWXzd4VDdhLDGV/JBqCKgN\n",
              "bsX0SwPXpAalhGOBIDYGeUeWooEe9TAFTQAAAA4Bn49qR/8AFdrPqbIekAAAAGlBm5RJ4QpSZTAh\n",
              "n/6eEAF9dPUH6Ztkf9znIR3pUoGru9imBdqShH29ZP/qf6nbj2BKLDWxQlbi6ooTKNfWxePE1PHq\n",
              "frC9u4FCLlj7IxACDESmo1mihKLSplcDCSgsg8YUUhEHG7mYBqQAAAAZQZ+yRTRMI/8ADdIewAFs\n",
              "7uKXgh1hxqEF5QAAABUBn9F0R/8AFjB5UAFzsvDSfh6JD0gAAAAOAZ/Takf/ABYsx8kcLKAAAABa\n",
              "QZvYSahBaJlMCF///oywAYB1QRHJbiKJBVh1S7octd1hmYWn3THlzQUfdv6PQEAsDR8myheN48bM\n",
              "v3DlEqY9N41PGjsY8hbo2U4F+rFhE2L+GoMQXIkDQZxtAAAAFkGf9kURLCP/AA3duKAFospgoj0y\n",
              "g+YAAAATAZ4VdEf/ABWv3mAERlDwPk8TsQAAAAwBnhdqR/8AFizWEXEAAABoQZocSahBbJlMCF//\n",
              "/oywAYB1QRGIdERfQ4MMusC25uakcl7M8y9xNR2Y5VdkPIn2P99T11K0QO1uiGCLlYV/CJWER+5n\n",
              "pqZtUtV/rTAJKn7G5D0bDdfP/S1EirZ7axcQ5OLD30k4muAAAAARQZ46RRUsI/8AGwmOKEazELEA\n",
              "AAALAZ5ZdEf/AAADA7oAAAAQAZ5bakf/ACsOpg1Jum8CpwAAAElBml5JqEFsmUwUTC///oywAYB1\n",
              "QRHJbkSgpy35/X228osua2TntbYSYtbdJnvv3+Sqf0TYxfXpuo3MZJt9cfZn28rgJ2JQqi9BAAAA\n",
              "EwGefWpH/wAq6ZNpABK7fLeTwnYAAABsQZpiSeEKUmUwIX/+jLABgHVBCRmaIjA7cFDOSBEc56pj\n",
              "0ODg2PrGBo5k/67sAH4qMCYZt5Xw+9p7+Y5DeMZwc1upRkRc01/4KGnEqnQIM5cMXYn5v/lMnZQ1\n",
              "gM6Zrl5IroO+YzL+70n5L7uAAAAAF0GegEU0TCP/ABsEPYAB/OqddB6NQgYNAAAADAGev3RH/wAV\n",
              "D0YptQAAAA4BnqFqR/8AKyoQR7HlJQAAAElBmqRJqEFomUwU8M/+nhABpXT1B2z/R5+iSTCO2aKy\n",
              "pOscbjWhk2kJH0ZZO2gbQs5IPPCJUv8mrpGUY8IFUSmCC2xSrZlacJk4AAAADQGew2pH/wAqGXNB\n",
              "gSsAAABlQZrISeEKUmUwIZ/+nhADHunqEBLxhBuf7Aox5/17sErCOZn86dPQ099FggK9Qrf4urQq\n",
              "mn2y2TJVr8yaV8qkbj96XkREAzfu9LH9wvqJj5+0y6rNhVaZXA6QLSDdwgpFDnjKXtEAAAAYQZ7m\n",
              "RTRMI/8AGmNlIASopRrMWvmOYFNBAAAADwGfBXRH/wAp7ixlmPpkTQAAAA4BnwdqR/8AKPm0vSuh\n",
              "gwAAAGtBmwxJqEFomUwIZ//+nhADHunqD9M3hBxoQ8UBjr+etZfsaIe/gAMJBwhFAX+WB/YAJ9XL\n",
              "na4sP9aik6+Fi0BeAGIQcbJw6kBrgS2ZD0iVNRvk/FUdo+4Q5wWNquJ1zww4dSh+AnZG2nFJ8AAA\n",
              "ABpBnypFESwj/wAaRu/o8AJpFDf9qC3tO7siYQAAABUBn0l0R/8AKjMcACWfs488VcE+NmAAAAAQ\n",
              "AZ9Lakf/ACmro25n9MqJWAAAACtBm1BJqEFsmUwIZ//+nhAAKO763TABDvlYFO7g/O+6RBQAnsvA\n",
              "X/HPkWHHAAAAFkGfbkUVLCP/AA0yhSYAhu5kgHwiYMEAAAALAZ+NdEf/AAADA7sAAAALAZ+Pakf/\n",
              "AAADA7oAAABFQZuUSahBbJlMCF///oywAFJy3RAFaKVn9e1h4elSe0I7TxHjKOoMhUbssAQ4Gwua\n",
              "/VGHoZz82+M4K0zHS28lcl+xyRvwAAAAEEGfskUVLCP/AA2Ev10wUUEAAAAUAZ/RdEf/ABUf3mAC\n",
              "wCChHEk8UUAAAAAUAZ/Takf/ABWW2+ADUtnJLs/J4nYAAAAqQZvYSahBbJlMCF///oywACptUieA\n",
              "ESFMW68WqxB+EO9ol5w3EnTkMMqBAAAAFkGf9kUVLCP/AA2FEooAaY4EkR5ik7AAAAALAZ4VdEf/\n",
              "AAADA7sAAAALAZ4Xakf/AAADA7sAAAAwQZocSahBbJlMCF///oywAFSx22AG603ifO6T24whTJyi\n",
              "z8CXrRgPuu0qIHjZmEPAAAAADUGeOkUVLCP/AAADAl8AAAALAZ5ZdEf/AAADA7oAAAALAZ5bakf/\n",
              "AAADA7sAAAAwQZpASahBbJlMCFf//jhAAUazxAAFhtx63foxOx6UZmyszdWlFN9ufJVona9w4PGB\n",
              "AAAADkGefkUVLCP/ABsCnVE7AAAACwGenXRH/wAAAwO6AAAACwGen2pH/wAAAwO7AAAAFkGag0mo\n",
              "QWyZTAj//IQAEsKmTUYfBiwAAAANQZ6hRRUsI/8AAAMCXwAAAAsBnsJqR/8AAAMDugAAB7Ztb292\n",
              "AAAAbG12aGQAAAAAAAAAAAAAAAAAAAPoAAAH0AABAAABAAAAAAAAAAAAAAAAAQAAAAAAAAAAAAAA\n",
              "AAAAAAEAAAAAAAAAAAAAAAAAAEAAAAAAAAAAAAAAAAAAAAAAAAAAAAAAAAAAAAAAAAACAAAG4HRy\n",
              "YWsAAABcdGtoZAAAAAMAAAAAAAAAAAAAAAEAAAAAAAAH0AAAAAAAAAAAAAAAAAAAAAAAAQAAAAAA\n",
              "AAAAAAAAAAAAAAEAAAAAAAAAAAAAAAAAAEAAAAABsAAAASAAAAAAACRlZHRzAAAAHGVsc3QAAAAA\n",
              "AAAAAQAAB9AAAAIAAAEAAAAABlhtZGlhAAAAIG1kaGQAAAAAAAAAAAAAAAAAADIAAABkAFXEAAAA\n",
              "AAAtaGRscgAAAAAAAAAAdmlkZQAAAAAAAAAAAAAAAFZpZGVvSGFuZGxlcgAAAAYDbWluZgAAABR2\n",
              "bWhkAAAAAQAAAAAAAAAAAAAAJGRpbmYAAAAcZHJlZgAAAAAAAAABAAAADHVybCAAAAABAAAFw3N0\n",
              "YmwAAACzc3RzZAAAAAAAAAABAAAAo2F2YzEAAAAAAAAAAQAAAAAAAAAAAAAAAAAAAAABsAEgAEgA\n",
              "AABIAAAAAAAAAAEAAAAAAAAAAAAAAAAAAAAAAAAAAAAAAAAAAAAAAAAAAAAY//8AAAAxYXZjQwFk\n",
              "AB7/4QAYZ2QAHqzZQbCWhAAAAwAEAAADAZA8WLZYAQAGaOvjyyLAAAAAHHV1aWRraEDyXyRPxbo5\n",
              "pRvPAyPzAAAAAAAAABhzdHRzAAAAAAAAAAEAAABkAAABAAAAABRzdHNzAAAAAAAAAAEAAAABAAAD\n",
              "CGN0dHMAAAAAAAAAXwAAAAIAAAIAAAAAAQAABQAAAAABAAACAAAAAAEAAAAAAAAAAQAAAQAAAAAB\n",
              "AAACAAAAAAEAAAUAAAAAAQAAAgAAAAABAAAAAAAAAAEAAAEAAAAAAQAABAAAAAACAAABAAAAAAEA\n",
              "AAUAAAAAAQAAAgAAAAABAAAAAAAAAAEAAAEAAAAAAQAAAwAAAAABAAABAAAAAAEAAAQAAAAAAgAA\n",
              "AQAAAAABAAADAAAAAAEAAAEAAAAAAQAAAwAAAAABAAABAAAAAAEAAAQAAAAAAgAAAQAAAAABAAAC\n",
              "AAAAAAEAAAUAAAAAAQAAAgAAAAABAAAAAAAAAAEAAAEAAAAAAQAABQAAAAABAAACAAAAAAEAAAAA\n",
              "AAAAAQAAAQAAAAABAAAFAAAAAAEAAAIAAAAAAQAAAAAAAAABAAABAAAAAAEAAAUAAAAAAQAAAgAA\n",
              "AAABAAAAAAAAAAEAAAEAAAAAAQAAAwAAAAABAAABAAAAAAEAAAUAAAAAAQAAAgAAAAABAAAAAAAA\n",
              "AAEAAAEAAAAAAQAABQAAAAABAAACAAAAAAEAAAAAAAAAAQAAAQAAAAABAAAFAAAAAAEAAAIAAAAA\n",
              "AQAAAAAAAAABAAABAAAAAAEAAAMAAAAAAQAAAQAAAAABAAAFAAAAAAEAAAIAAAAAAQAAAAAAAAAB\n",
              "AAABAAAAAAEAAAMAAAAAAQAAAQAAAAABAAAFAAAAAAEAAAIAAAAAAQAAAAAAAAABAAABAAAAAAEA\n",
              "AAUAAAAAAQAAAgAAAAABAAAAAAAAAAEAAAEAAAAAAQAABQAAAAABAAACAAAAAAEAAAAAAAAAAQAA\n",
              "AQAAAAABAAAFAAAAAAEAAAIAAAAAAQAAAAAAAAABAAABAAAAAAEAAAUAAAAAAQAAAgAAAAABAAAA\n",
              "AAAAAAEAAAEAAAAAAQAABQAAAAABAAACAAAAAAEAAAAAAAAAAQAAAQAAAAABAAAFAAAAAAEAAAIA\n",
              "AAAAAQAAAAAAAAABAAABAAAAAAEAAAQAAAAAAgAAAQAAAAAcc3RzYwAAAAAAAAABAAAAAQAAAGQA\n",
              "AAABAAABpHN0c3oAAAAAAAAAAAAAAGQAACOPAAABgAAAATAAAAAdAAAAHwAAABcAAAB6AAAA+gAA\n",
              "ACYAAAAXAAAAIgAAANQAAAAnAAAAHgAAAJEAAAAqAAAAHgAAABsAAABuAAAAGwAAAJcAAAAeAAAA\n",
              "HwAAAFwAAAAXAAAAXwAAABkAAABsAAAAHgAAABoAAABUAAAAdgAAABwAAAATAAAAFgAAAEcAAAAY\n",
              "AAAADwAAABYAAABdAAAAHgAAABkAAAAXAAAAUAAAABQAAAAXAAAADwAAAFEAAAASAAAAbQAAAB0A\n",
              "AAAZAAAAEgAAAF4AAAAaAAAAFwAAABAAAABsAAAAFQAAAA8AAAAUAAAATQAAABcAAABwAAAAGwAA\n",
              "ABAAAAASAAAATQAAABEAAABpAAAAHAAAABMAAAASAAAAbwAAAB4AAAAZAAAAFAAAAC8AAAAaAAAA\n",
              "DwAAAA8AAABJAAAAFAAAABgAAAAYAAAALgAAABoAAAAPAAAADwAAADQAAAARAAAADwAAAA8AAAA0\n",
              "AAAAEgAAAA8AAAAPAAAAGgAAABEAAAAPAAAAFHN0Y28AAAAAAAAAAQAAACwAAABidWR0YQAAAFpt\n",
              "ZXRhAAAAAAAAACFoZGxyAAAAAAAAAABtZGlyYXBwbAAAAAAAAAAAAAAAAC1pbHN0AAAAJal0b28A\n",
              "AAAdZGF0YQAAAAEAAAAATGF2ZjU3LjgzLjEwMA==\n",
              "\">\n",
              "  Your browser does not support the video tag.\n",
              "</video>"
            ]
          },
          "metadata": {
            "tags": []
          }
        }
      ]
    },
    {
      "metadata": {
        "id": "MS1V80u76KH0",
        "colab_type": "code",
        "colab": {}
      },
      "cell_type": "code",
      "source": [
        ""
      ],
      "execution_count": 0,
      "outputs": []
    }
  ]
}